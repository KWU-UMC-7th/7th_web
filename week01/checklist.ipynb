{
 "cells": [
  {
   "cell_type": "markdown",
   "metadata": {},
   "source": [
    "# **구현 할 것들**"
   ]
  },
  {
   "cell_type": "markdown",
   "metadata": {},
   "source": [
    "### title\n",
    "\n",
    "폰트 크게크게"
   ]
  },
  {
   "cell_type": "markdown",
   "metadata": {},
   "source": [
    "### BOX1 (상단 중앙)\n",
    "텍스트 박스\n",
    " - 입력된 내용이 '해야 할 일'로 전달"
   ]
  },
  {
   "cell_type": "markdown",
   "metadata": {},
   "source": [
    "### BOX2 (좌측 하단)\n",
    "[해야 할 일]\n",
    "\n",
    "miniBOX\n",
    " - BOX1에 적었던 내용 (왼쪽 맞춤)\n",
    " - BTN '완료' $\\quad \\qquad \\,\\,$ (오른쪽 맞춤, '해낸 일'로 전달)"
   ]
  },
  {
   "cell_type": "markdown",
   "metadata": {},
   "source": [
    "### BOX3 (우측 하단)\n",
    "[해낸 일]\n",
    "miniBOX\n",
    " - BOX2에서 전달받은 내용 (왼쪽 맞춤)\n",
    " - BTN '삭제' $\\quad \\qquad \\qquad$ (오른쪽 맞춤)"
   ]
  },
  {
   "cell_type": "markdown",
   "metadata": {},
   "source": [
    "---"
   ]
  },
  {
   "cell_type": "markdown",
   "metadata": {},
   "source": [
    "# **사용한 것들**"
   ]
  },
  {
   "cell_type": "markdown",
   "metadata": {},
   "source": [
    "## CSS Display 형식"
   ]
  },
  {
   "cell_type": "code",
   "execution_count": null,
   "metadata": {
    "vscode": {
     "languageId": "html"
    }
   },
   "outputs": [],
   "source": [
    "<style>\n",
    "    #main-content {\n",
    "        display: flex;\n",
    "        flex-direction: column;\n",
    "    }\n",
    "\n",
    "    .column_box {\n",
    "        display: flex;       /* 가로로 배치 */\n",
    "    }\n",
    "\n",
    "    .column {\n",
    "        flex: 1;             /* 동일한 비율로 가로 공간 차지 */\n",
    "    }    \n",
    "</style>\n"
   ]
  },
  {
   "cell_type": "markdown",
   "metadata": {},
   "source": [
    "flex"
   ]
  },
  {
   "cell_type": "markdown",
   "metadata": {},
   "source": [
    "## 입력한거 저장\n"
   ]
  },
  {
   "cell_type": "code",
   "execution_count": null,
   "metadata": {
    "vscode": {
     "languageId": "javascript"
    }
   },
   "outputs": [],
   "source": [
    "const inputbox = document.getElementById('inputbox');   //텍스트 박스에서 받아서\n",
    "const output = document.getElementById('BOX2');         //box2에서 출력한다\n",
    "\n",
    "inputbox.addEventListener('keypress', function(event){\n",
    "    if(event.key === 'Enter'){\n",
    "        const text = inputbox.value;                    //inputbox에서 값 가져오기\n",
    "        if(text){\n",
    "            output.innerHTML += '<div>' + text + '<input type=\"button\" id=\"btn_done\">' + '<div>';     //적절한 태그 달아서 입력해줌\n",
    "            inputbox.value = '';                        //textbox 비워주기\n",
    "        }\n",
    "        event.preventDefault();                         //enter키 기본동작 방지\n",
    "    }            \n",
    "});"
   ]
  },
  {
   "cell_type": "markdown",
   "metadata": {},
   "source": [
    "```js\n",
    "inputbox.addEventListener('keypress', function(event))\n",
    "```\n",
    "'inputbox'에서 'keypress'이벤트가 발생하면 function(event) 실행 \\\n",
    "\\\n",
    "\n",
    "><span style=\"color:violet;;\">.addEventListener(type, listener) 메서드 :</span> \\\n",
    ">\n",
    ">대상에 이벤트가 발생했을 때 함수를 실행하는 메서드\n",
    ">\n",
    ">인자 \\\n",
    "> -> type : 감지할 이벤트의 유형을 작성 \\\n",
    "> -> listener : 이벤트를 수신 할 함수"
   ]
  },
  {
   "cell_type": "markdown",
   "metadata": {},
   "source": [
    "```js\n",
    "const text = inputbox.value;\n",
    "```\n",
    "\n",
    "><span style=\"color:violet;;\">.value :</span>\\\n",
    ">값을 가져올 수 있음\n",
    ">\n",
    ">const text = inputbox;으로 할 경우\n",
    ">[object HTMLInputElement] 이 표시됨"
   ]
  },
  {
   "cell_type": "markdown",
   "metadata": {},
   "source": [
    "```js\n",
    "output.innerHTML += <div></div>\n",
    "```\n",
    "><span style=\"color:violet\">.innerHTML : </span>\\\n",
    ">요소의 모든 자손을 제거"
   ]
  },
  {
   "cell_type": "markdown",
   "metadata": {},
   "source": [
    "## 위치 변경"
   ]
  },
  {
   "cell_type": "code",
   "execution_count": null,
   "metadata": {
    "vscode": {
     "languageId": "javascript"
    }
   },
   "outputs": [],
   "source": [
    "//BOX2(해야 할 일) -> BOX3(해낸 일)\n",
    "function todo_to_done(todoElement){        //todoElement <- <div class=\"user_element\">~~</div>\n",
    "    const serve = todoElement.firstChild.nodeValue;      //todoElement의 첫 자손 요소\n",
    "    const receive = document.getElementById('BOX3');     //ID가 'BOX3'인 것이 받게함\n",
    "\n",
    "    if(serve){   //serve에 값이 있으면\n",
    "        receive.innerHTML += '<div>' + serve + '<input type=\"button\" class=\"btn_delete\" value = \"삭제\" onclick=\"remove_done(this.parentElement)\">' + '</div>';\n",
    "        todoElement.remove();\n",
    "    }\n",
    "}"
   ]
  },
  {
   "cell_type": "markdown",
   "metadata": {},
   "source": []
  },
  {
   "cell_type": "markdown",
   "metadata": {},
   "source": [
    "## 삭제"
   ]
  },
  {
   "cell_type": "code",
   "execution_count": null,
   "metadata": {
    "vscode": {
     "languageId": "javascript"
    }
   },
   "outputs": [],
   "source": [
    "function remove_done(doneElement){\n",
    "    doneElement.remove();\n",
    "}"
   ]
  }
 ],
 "metadata": {
  "kernelspec": {
   "display_name": "Python 3",
   "language": "python",
   "name": "python3"
  },
  "language_info": {
   "codemirror_mode": {
    "name": "ipython",
    "version": 3
   },
   "file_extension": ".py",
   "mimetype": "text/x-python",
   "name": "python",
   "nbconvert_exporter": "python",
   "pygments_lexer": "ipython3",
   "version": "3.12.1"
  }
 },
 "nbformat": 4,
 "nbformat_minor": 2
}
